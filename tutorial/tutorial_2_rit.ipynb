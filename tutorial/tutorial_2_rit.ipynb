{
 "cells": [
  {
   "cell_type": "markdown",
   "id": "5fa4d3a5-8848-405c-97fc-5c4e137a53a1",
   "metadata": {},
   "source": [
    "# Risk Invariance Tests"
   ]
  },
  {
   "cell_type": "markdown",
   "id": "38ebdc65-e14f-4cb9-a95d-850f03885276",
   "metadata": {},
   "source": [
    "In this tutorial, we demonstrate how to use `tofi` to implement risk invariance tests (RITs) for feature importance. These tests include leave-one-covariate-out (LOCO) and plug-in estimation (PIE).\n",
    "\n",
    "To install `tofi` via `pip`, please use:\n",
    "```\n",
    "pip install pytofi\n",
    "```\n",
    "The current tutorial alos use `plotly` for plotting. It can be install via\n",
    "```\n",
    "pip install plotly\n",
    "```"
   ]
  },
  {
   "cell_type": "markdown",
   "id": "821d1327-090b-4f89-8603-8778089ab529",
   "metadata": {},
   "source": [
    "## `Heart` Example"
   ]
  },
  {
   "cell_type": "markdown",
   "id": "dc219da8-a742-42ad-ac8a-49446b6d6baa",
   "metadata": {},
   "source": [
    "The `heart` data set in book [ISLP](https://www.statlearning.com/) will be used for demonstration. The data set enables us to establish a classifier for `AHD` based on 13 features. Note that there are categorical features and missing values in the `heart` data set."
   ]
  },
  {
   "cell_type": "code",
   "execution_count": 1,
   "id": "8fb219a4-180e-446e-80a4-01055fb21f0c",
   "metadata": {},
   "outputs": [
    {
     "name": "stdout",
     "output_type": "stream",
     "text": [
      "<class 'pandas.core.frame.DataFrame'>\n",
      "Index: 303 entries, 1 to 303\n",
      "Data columns (total 14 columns):\n",
      " #   Column     Non-Null Count  Dtype  \n",
      "---  ------     --------------  -----  \n",
      " 0   Age        303 non-null    int64  \n",
      " 1   Sex        303 non-null    int64  \n",
      " 2   ChestPain  303 non-null    object \n",
      " 3   RestBP     303 non-null    int64  \n",
      " 4   Chol       303 non-null    int64  \n",
      " 5   Fbs        303 non-null    int64  \n",
      " 6   RestECG    303 non-null    int64  \n",
      " 7   MaxHR      303 non-null    int64  \n",
      " 8   ExAng      303 non-null    int64  \n",
      " 9   Oldpeak    303 non-null    float64\n",
      " 10  Slope      303 non-null    int64  \n",
      " 11  Ca         299 non-null    float64\n",
      " 12  Thal       301 non-null    object \n",
      " 13  AHD        303 non-null    object \n",
      "dtypes: float64(2), int64(9), object(3)\n",
      "memory usage: 35.5+ KB\n"
     ]
    }
   ],
   "source": [
    "import pandas as pd\n",
    "heart = pd.read_csv(\n",
    "    \"https://trevorhastie.github.io/ISLR/Heart.csv\", \n",
    "    index_col = 0)\n",
    "heart.info()"
   ]
  },
  {
   "cell_type": "markdown",
   "id": "6eec783f-2227-4071-bc37-7e3bbbfe5cb5",
   "metadata": {},
   "source": [
    "To prepare appropriate data for learning, we transform categorical features into `category` type and split the data set into training set and test set."
   ]
  },
  {
   "cell_type": "code",
   "execution_count": 2,
   "id": "e6b4550a-89f7-4bb3-9a74-5592a86c7ce8",
   "metadata": {},
   "outputs": [],
   "source": [
    "import numpy as np\n",
    "from sklearn.model_selection import train_test_split\n",
    "heart[\"ChestPain\"] = heart[\"ChestPain\"].astype(\"category\")\n",
    "heart[\"Thal\"] = heart[\"Thal\"].astype(\"category\")\n",
    "X = heart.drop(\"AHD\", axis = 1)\n",
    "y = heart[\"AHD\"]\n",
    "X_train, X_test, y_train, y_test = train_test_split(\n",
    "    X, y, \n",
    "    test_size = .5,\n",
    "    random_state = 48)"
   ]
  },
  {
   "cell_type": "markdown",
   "id": "2743b619-e766-4e58-81cb-a883be74ac7f",
   "metadata": {},
   "source": [
    "We train a classifier by using `HistGradientBoostingClassifier` which can hadle missing values and categorical features natively. An optimal `max_iter` is chosen via `GridSearchCV` from `[100, 200, 300, 400]`. The best model yields about 80% correct predictions on the test data set."
   ]
  },
  {
   "cell_type": "code",
   "execution_count": 3,
   "id": "5cd5674b-33f1-43e8-a0d3-e5b6a3278e93",
   "metadata": {},
   "outputs": [
    {
     "name": "stdout",
     "output_type": "stream",
     "text": [
      "Accuracy: 0.8026315789473685\n"
     ]
    }
   ],
   "source": [
    "from sklearn.model_selection import GridSearchCV\n",
    "from sklearn.ensemble import HistGradientBoostingClassifier\n",
    "from sklearn.metrics import accuracy_score\n",
    "learner = GridSearchCV(\n",
    "    estimator = HistGradientBoostingClassifier(\n",
    "        categorical_features = \"from_dtype\"), \n",
    "    param_grid = {\n",
    "        \"max_iter\": [100, 200, 300, 400]})\n",
    "_ = learner.fit(\n",
    "    X_train, y_train)\n",
    "print(\"Accuracy:\",\n",
    "      accuracy_score(\n",
    "          y_test, \n",
    "          learner.predict(X_test)))"
   ]
  },
  {
   "cell_type": "markdown",
   "id": "0ffbf5ed-5083-49e3-8380-3176bb1d5e67",
   "metadata": {},
   "source": [
    "To see which feature is useful in prediction, we calculate the permutation feature importances. The importance values show that `\"Ca\"` seems to be the most important. "
   ]
  },
  {
   "cell_type": "code",
   "execution_count": 4,
   "id": "40f97db3-0051-410a-84bf-f5e50ebad64a",
   "metadata": {},
   "outputs": [],
   "source": [
    "from sklearn.inspection import permutation_importance\n",
    "pfi = permutation_importance(\n",
    "    learner, \n",
    "    X_test, \n",
    "    y_test, \n",
    "    scoring = \"neg_log_loss\",\n",
    "    n_repeats = 50)"
   ]
  },
  {
   "cell_type": "code",
   "execution_count": 5,
   "id": "9be73771-d038-4479-87f8-2f27da654a68",
   "metadata": {},
   "outputs": [
    {
     "data": {
      "application/vnd.plotly.v1+json": {
       "config": {
        "plotlyServerURL": "https://plot.ly"
       },
       "data": [
        {
         "hovertemplate": "x=%{x}<br>y=%{y}<extra></extra>",
         "legendgroup": "",
         "marker": {
          "color": "#1F77B4",
          "pattern": {
           "shape": ""
          }
         },
         "name": "",
         "orientation": "v",
         "showlegend": false,
         "textposition": "auto",
         "type": "bar",
         "x": [
          "Age",
          "Sex",
          "ChestPain",
          "RestBP",
          "Chol",
          "Fbs",
          "RestECG",
          "MaxHR",
          "ExAng",
          "Oldpeak",
          "Slope",
          "Ca",
          "Thal"
         ],
         "xaxis": "x",
         "y": {
          "bdata": "+GXAKGXUmj/cD0znkvO+P8HSffWTE7Y/+woCc+IIkr/DUqgEFCGJv6+ywdEq3XE/PNp6tM4rlD/Y2EYzcgOgP2gqpqN+AaI/X1BkhpNzj79lti4tz0ObP0QXSScPCsE/V0rrkRvBsz8=",
          "dtype": "f8"
         },
         "yaxis": "y"
        }
       ],
       "layout": {
        "barmode": "relative",
        "height": 300,
        "legend": {
         "tracegroupgap": 0
        },
        "margin": {
         "t": 60
        },
        "template": {
         "data": {
          "bar": [
           {
            "error_x": {
             "color": "rgb(36,36,36)"
            },
            "error_y": {
             "color": "rgb(36,36,36)"
            },
            "marker": {
             "line": {
              "color": "white",
              "width": 0.5
             },
             "pattern": {
              "fillmode": "overlay",
              "size": 10,
              "solidity": 0.2
             }
            },
            "type": "bar"
           }
          ],
          "barpolar": [
           {
            "marker": {
             "line": {
              "color": "white",
              "width": 0.5
             },
             "pattern": {
              "fillmode": "overlay",
              "size": 10,
              "solidity": 0.2
             }
            },
            "type": "barpolar"
           }
          ],
          "carpet": [
           {
            "aaxis": {
             "endlinecolor": "rgb(36,36,36)",
             "gridcolor": "white",
             "linecolor": "white",
             "minorgridcolor": "white",
             "startlinecolor": "rgb(36,36,36)"
            },
            "baxis": {
             "endlinecolor": "rgb(36,36,36)",
             "gridcolor": "white",
             "linecolor": "white",
             "minorgridcolor": "white",
             "startlinecolor": "rgb(36,36,36)"
            },
            "type": "carpet"
           }
          ],
          "choropleth": [
           {
            "colorbar": {
             "outlinewidth": 1,
             "tickcolor": "rgb(36,36,36)",
             "ticks": "outside"
            },
            "type": "choropleth"
           }
          ],
          "contour": [
           {
            "colorbar": {
             "outlinewidth": 1,
             "tickcolor": "rgb(36,36,36)",
             "ticks": "outside"
            },
            "colorscale": [
             [
              0,
              "#440154"
             ],
             [
              0.1111111111111111,
              "#482878"
             ],
             [
              0.2222222222222222,
              "#3e4989"
             ],
             [
              0.3333333333333333,
              "#31688e"
             ],
             [
              0.4444444444444444,
              "#26828e"
             ],
             [
              0.5555555555555556,
              "#1f9e89"
             ],
             [
              0.6666666666666666,
              "#35b779"
             ],
             [
              0.7777777777777778,
              "#6ece58"
             ],
             [
              0.8888888888888888,
              "#b5de2b"
             ],
             [
              1,
              "#fde725"
             ]
            ],
            "type": "contour"
           }
          ],
          "contourcarpet": [
           {
            "colorbar": {
             "outlinewidth": 1,
             "tickcolor": "rgb(36,36,36)",
             "ticks": "outside"
            },
            "type": "contourcarpet"
           }
          ],
          "heatmap": [
           {
            "colorbar": {
             "outlinewidth": 1,
             "tickcolor": "rgb(36,36,36)",
             "ticks": "outside"
            },
            "colorscale": [
             [
              0,
              "#440154"
             ],
             [
              0.1111111111111111,
              "#482878"
             ],
             [
              0.2222222222222222,
              "#3e4989"
             ],
             [
              0.3333333333333333,
              "#31688e"
             ],
             [
              0.4444444444444444,
              "#26828e"
             ],
             [
              0.5555555555555556,
              "#1f9e89"
             ],
             [
              0.6666666666666666,
              "#35b779"
             ],
             [
              0.7777777777777778,
              "#6ece58"
             ],
             [
              0.8888888888888888,
              "#b5de2b"
             ],
             [
              1,
              "#fde725"
             ]
            ],
            "type": "heatmap"
           }
          ],
          "histogram": [
           {
            "marker": {
             "line": {
              "color": "white",
              "width": 0.6
             }
            },
            "type": "histogram"
           }
          ],
          "histogram2d": [
           {
            "colorbar": {
             "outlinewidth": 1,
             "tickcolor": "rgb(36,36,36)",
             "ticks": "outside"
            },
            "colorscale": [
             [
              0,
              "#440154"
             ],
             [
              0.1111111111111111,
              "#482878"
             ],
             [
              0.2222222222222222,
              "#3e4989"
             ],
             [
              0.3333333333333333,
              "#31688e"
             ],
             [
              0.4444444444444444,
              "#26828e"
             ],
             [
              0.5555555555555556,
              "#1f9e89"
             ],
             [
              0.6666666666666666,
              "#35b779"
             ],
             [
              0.7777777777777778,
              "#6ece58"
             ],
             [
              0.8888888888888888,
              "#b5de2b"
             ],
             [
              1,
              "#fde725"
             ]
            ],
            "type": "histogram2d"
           }
          ],
          "histogram2dcontour": [
           {
            "colorbar": {
             "outlinewidth": 1,
             "tickcolor": "rgb(36,36,36)",
             "ticks": "outside"
            },
            "colorscale": [
             [
              0,
              "#440154"
             ],
             [
              0.1111111111111111,
              "#482878"
             ],
             [
              0.2222222222222222,
              "#3e4989"
             ],
             [
              0.3333333333333333,
              "#31688e"
             ],
             [
              0.4444444444444444,
              "#26828e"
             ],
             [
              0.5555555555555556,
              "#1f9e89"
             ],
             [
              0.6666666666666666,
              "#35b779"
             ],
             [
              0.7777777777777778,
              "#6ece58"
             ],
             [
              0.8888888888888888,
              "#b5de2b"
             ],
             [
              1,
              "#fde725"
             ]
            ],
            "type": "histogram2dcontour"
           }
          ],
          "mesh3d": [
           {
            "colorbar": {
             "outlinewidth": 1,
             "tickcolor": "rgb(36,36,36)",
             "ticks": "outside"
            },
            "type": "mesh3d"
           }
          ],
          "parcoords": [
           {
            "line": {
             "colorbar": {
              "outlinewidth": 1,
              "tickcolor": "rgb(36,36,36)",
              "ticks": "outside"
             }
            },
            "type": "parcoords"
           }
          ],
          "pie": [
           {
            "automargin": true,
            "type": "pie"
           }
          ],
          "scatter": [
           {
            "fillpattern": {
             "fillmode": "overlay",
             "size": 10,
             "solidity": 0.2
            },
            "type": "scatter"
           }
          ],
          "scatter3d": [
           {
            "line": {
             "colorbar": {
              "outlinewidth": 1,
              "tickcolor": "rgb(36,36,36)",
              "ticks": "outside"
             }
            },
            "marker": {
             "colorbar": {
              "outlinewidth": 1,
              "tickcolor": "rgb(36,36,36)",
              "ticks": "outside"
             }
            },
            "type": "scatter3d"
           }
          ],
          "scattercarpet": [
           {
            "marker": {
             "colorbar": {
              "outlinewidth": 1,
              "tickcolor": "rgb(36,36,36)",
              "ticks": "outside"
             }
            },
            "type": "scattercarpet"
           }
          ],
          "scattergeo": [
           {
            "marker": {
             "colorbar": {
              "outlinewidth": 1,
              "tickcolor": "rgb(36,36,36)",
              "ticks": "outside"
             }
            },
            "type": "scattergeo"
           }
          ],
          "scattergl": [
           {
            "marker": {
             "colorbar": {
              "outlinewidth": 1,
              "tickcolor": "rgb(36,36,36)",
              "ticks": "outside"
             }
            },
            "type": "scattergl"
           }
          ],
          "scattermap": [
           {
            "marker": {
             "colorbar": {
              "outlinewidth": 1,
              "tickcolor": "rgb(36,36,36)",
              "ticks": "outside"
             }
            },
            "type": "scattermap"
           }
          ],
          "scattermapbox": [
           {
            "marker": {
             "colorbar": {
              "outlinewidth": 1,
              "tickcolor": "rgb(36,36,36)",
              "ticks": "outside"
             }
            },
            "type": "scattermapbox"
           }
          ],
          "scatterpolar": [
           {
            "marker": {
             "colorbar": {
              "outlinewidth": 1,
              "tickcolor": "rgb(36,36,36)",
              "ticks": "outside"
             }
            },
            "type": "scatterpolar"
           }
          ],
          "scatterpolargl": [
           {
            "marker": {
             "colorbar": {
              "outlinewidth": 1,
              "tickcolor": "rgb(36,36,36)",
              "ticks": "outside"
             }
            },
            "type": "scatterpolargl"
           }
          ],
          "scatterternary": [
           {
            "marker": {
             "colorbar": {
              "outlinewidth": 1,
              "tickcolor": "rgb(36,36,36)",
              "ticks": "outside"
             }
            },
            "type": "scatterternary"
           }
          ],
          "surface": [
           {
            "colorbar": {
             "outlinewidth": 1,
             "tickcolor": "rgb(36,36,36)",
             "ticks": "outside"
            },
            "colorscale": [
             [
              0,
              "#440154"
             ],
             [
              0.1111111111111111,
              "#482878"
             ],
             [
              0.2222222222222222,
              "#3e4989"
             ],
             [
              0.3333333333333333,
              "#31688e"
             ],
             [
              0.4444444444444444,
              "#26828e"
             ],
             [
              0.5555555555555556,
              "#1f9e89"
             ],
             [
              0.6666666666666666,
              "#35b779"
             ],
             [
              0.7777777777777778,
              "#6ece58"
             ],
             [
              0.8888888888888888,
              "#b5de2b"
             ],
             [
              1,
              "#fde725"
             ]
            ],
            "type": "surface"
           }
          ],
          "table": [
           {
            "cells": {
             "fill": {
              "color": "rgb(237,237,237)"
             },
             "line": {
              "color": "white"
             }
            },
            "header": {
             "fill": {
              "color": "rgb(217,217,217)"
             },
             "line": {
              "color": "white"
             }
            },
            "type": "table"
           }
          ]
         },
         "layout": {
          "annotationdefaults": {
           "arrowhead": 0,
           "arrowwidth": 1
          },
          "autotypenumbers": "strict",
          "coloraxis": {
           "colorbar": {
            "outlinewidth": 1,
            "tickcolor": "rgb(36,36,36)",
            "ticks": "outside"
           }
          },
          "colorscale": {
           "diverging": [
            [
             0,
             "rgb(103,0,31)"
            ],
            [
             0.1,
             "rgb(178,24,43)"
            ],
            [
             0.2,
             "rgb(214,96,77)"
            ],
            [
             0.3,
             "rgb(244,165,130)"
            ],
            [
             0.4,
             "rgb(253,219,199)"
            ],
            [
             0.5,
             "rgb(247,247,247)"
            ],
            [
             0.6,
             "rgb(209,229,240)"
            ],
            [
             0.7,
             "rgb(146,197,222)"
            ],
            [
             0.8,
             "rgb(67,147,195)"
            ],
            [
             0.9,
             "rgb(33,102,172)"
            ],
            [
             1,
             "rgb(5,48,97)"
            ]
           ],
           "sequential": [
            [
             0,
             "#440154"
            ],
            [
             0.1111111111111111,
             "#482878"
            ],
            [
             0.2222222222222222,
             "#3e4989"
            ],
            [
             0.3333333333333333,
             "#31688e"
            ],
            [
             0.4444444444444444,
             "#26828e"
            ],
            [
             0.5555555555555556,
             "#1f9e89"
            ],
            [
             0.6666666666666666,
             "#35b779"
            ],
            [
             0.7777777777777778,
             "#6ece58"
            ],
            [
             0.8888888888888888,
             "#b5de2b"
            ],
            [
             1,
             "#fde725"
            ]
           ],
           "sequentialminus": [
            [
             0,
             "#440154"
            ],
            [
             0.1111111111111111,
             "#482878"
            ],
            [
             0.2222222222222222,
             "#3e4989"
            ],
            [
             0.3333333333333333,
             "#31688e"
            ],
            [
             0.4444444444444444,
             "#26828e"
            ],
            [
             0.5555555555555556,
             "#1f9e89"
            ],
            [
             0.6666666666666666,
             "#35b779"
            ],
            [
             0.7777777777777778,
             "#6ece58"
            ],
            [
             0.8888888888888888,
             "#b5de2b"
            ],
            [
             1,
             "#fde725"
            ]
           ]
          },
          "colorway": [
           "#1F77B4",
           "#FF7F0E",
           "#2CA02C",
           "#D62728",
           "#9467BD",
           "#8C564B",
           "#E377C2",
           "#7F7F7F",
           "#BCBD22",
           "#17BECF"
          ],
          "font": {
           "color": "rgb(36,36,36)"
          },
          "geo": {
           "bgcolor": "white",
           "lakecolor": "white",
           "landcolor": "white",
           "showlakes": true,
           "showland": true,
           "subunitcolor": "white"
          },
          "hoverlabel": {
           "align": "left"
          },
          "hovermode": "closest",
          "mapbox": {
           "style": "light"
          },
          "paper_bgcolor": "white",
          "plot_bgcolor": "white",
          "polar": {
           "angularaxis": {
            "gridcolor": "rgb(232,232,232)",
            "linecolor": "rgb(36,36,36)",
            "showgrid": false,
            "showline": true,
            "ticks": "outside"
           },
           "bgcolor": "white",
           "radialaxis": {
            "gridcolor": "rgb(232,232,232)",
            "linecolor": "rgb(36,36,36)",
            "showgrid": false,
            "showline": true,
            "ticks": "outside"
           }
          },
          "scene": {
           "xaxis": {
            "backgroundcolor": "white",
            "gridcolor": "rgb(232,232,232)",
            "gridwidth": 2,
            "linecolor": "rgb(36,36,36)",
            "showbackground": true,
            "showgrid": false,
            "showline": true,
            "ticks": "outside",
            "zeroline": false,
            "zerolinecolor": "rgb(36,36,36)"
           },
           "yaxis": {
            "backgroundcolor": "white",
            "gridcolor": "rgb(232,232,232)",
            "gridwidth": 2,
            "linecolor": "rgb(36,36,36)",
            "showbackground": true,
            "showgrid": false,
            "showline": true,
            "ticks": "outside",
            "zeroline": false,
            "zerolinecolor": "rgb(36,36,36)"
           },
           "zaxis": {
            "backgroundcolor": "white",
            "gridcolor": "rgb(232,232,232)",
            "gridwidth": 2,
            "linecolor": "rgb(36,36,36)",
            "showbackground": true,
            "showgrid": false,
            "showline": true,
            "ticks": "outside",
            "zeroline": false,
            "zerolinecolor": "rgb(36,36,36)"
           }
          },
          "shapedefaults": {
           "fillcolor": "black",
           "line": {
            "width": 0
           },
           "opacity": 0.3
          },
          "ternary": {
           "aaxis": {
            "gridcolor": "rgb(232,232,232)",
            "linecolor": "rgb(36,36,36)",
            "showgrid": false,
            "showline": true,
            "ticks": "outside"
           },
           "baxis": {
            "gridcolor": "rgb(232,232,232)",
            "linecolor": "rgb(36,36,36)",
            "showgrid": false,
            "showline": true,
            "ticks": "outside"
           },
           "bgcolor": "white",
           "caxis": {
            "gridcolor": "rgb(232,232,232)",
            "linecolor": "rgb(36,36,36)",
            "showgrid": false,
            "showline": true,
            "ticks": "outside"
           }
          },
          "title": {
           "x": 0.05
          },
          "xaxis": {
           "automargin": true,
           "gridcolor": "rgb(232,232,232)",
           "linecolor": "rgb(36,36,36)",
           "showgrid": false,
           "showline": true,
           "ticks": "outside",
           "title": {
            "standoff": 15
           },
           "zeroline": false,
           "zerolinecolor": "rgb(36,36,36)"
          },
          "yaxis": {
           "automargin": true,
           "gridcolor": "rgb(232,232,232)",
           "linecolor": "rgb(36,36,36)",
           "showgrid": false,
           "showline": true,
           "ticks": "outside",
           "title": {
            "standoff": 15
           },
           "zeroline": false,
           "zerolinecolor": "rgb(36,36,36)"
          }
         }
        },
        "width": 600,
        "xaxis": {
         "anchor": "y",
         "domain": [
          0,
          1
         ],
         "title": {
          "text": "x"
         }
        },
        "yaxis": {
         "anchor": "x",
         "domain": [
          0,
          1
         ],
         "title": {
          "text": "y"
         }
        }
       }
      }
     },
     "metadata": {},
     "output_type": "display_data"
    }
   ],
   "source": [
    "import plotly.express as px\n",
    "fig = px.bar(\n",
    "    x = X.columns, \n",
    "    y = pfi.importances_mean,\n",
    "    template = \"simple_white\",\n",
    "    width=600, \n",
    "    height=300)\n",
    "fig.show()"
   ]
  },
  {
   "cell_type": "markdown",
   "id": "50bd12e4-60c3-4aec-b55e-c05e75608e15",
   "metadata": {},
   "source": [
    "## RIT Overview"
   ]
  },
  {
   "cell_type": "markdown",
   "id": "4eb716cd-dd2d-4cfb-bfe2-962f2c89d8c8",
   "metadata": {},
   "source": [
    "Let $\\widehat{f}$ denote a learner that predicts $y$ based on $x$. Its risk is defined as\n",
    "$$\n",
    "R(f_0) = \\text{E}[D(f_0;Z)],\n",
    "$$\n",
    "where $f_0$ is the population counterpart of $\\widehat{f}$, $D$ is the estimation criterion for training $\\widehat{f}$, and $Z$ is a random sample which is independent to $\\widehat{f}$. The risk evaluates the predictive error of $f_0$ in the long run. To evaluate the importance of $x_j$, we consider a competitor, denoted by $\\widehat{g}_j$, that predicts $y$ only based on $x_{-j}$. In most cases, $\\widehat{g}_j$ is trained by using the same ML algorithm of $\\widehat{f}$. Then the significance of $x_j$ in predicting $y$ can be tested by comparing the risk invaraince (RI) of $f_0$ and $g_{0,j}$:\n",
    "$$\n",
    "\\begin{aligned}\n",
    "&H_0:R(f_0) = R(g_{0,j}),\\\\\n",
    "&H_A:R(f_0) < R(g_{0,j}).\n",
    "\\end{aligned}\n",
    "$$\n",
    "It can be shown that the conditional independence (CI) of $x_j$ and $y$ given $x_{-j}$ implies risk invariance. The converse is also true if the estimation is proportional to negative likelihood (Dai, Shen, & Pan, 2022). Although CI and RI are generally not equivalent, RI could still provide useful information to understand the relationship between $x_j$ and $y$.\n"
   ]
  },
  {
   "cell_type": "markdown",
   "id": "3f10dc87-eea7-4992-bd0f-0dd9fa7b5722",
   "metadata": {},
   "source": [
    "## LOCO"
   ]
  },
  {
   "cell_type": "markdown",
   "id": "d1b77fbc-42b9-48dc-962e-cf6c19db3cf3",
   "metadata": {},
   "source": [
    "The leave-one-covariate-out (LOCO; Lei et al., 2018) directly compares the empirical risks of $\\widehat{f}$ and $\\widehat{g}_j$ on a training set $Z_\\text{test}$. In particular, the LOCO method considers the test statistic:\n",
    "$$\n",
    "t_j^\\text{LOCO} = D(\\widehat{g}_j; Z_\\text{test}) - D(\\widehat{f}; Z_\\text{test}).\n",
    "$$\n",
    "When the estimation criterion is constructed as a sum of loss values (i.e., $L[y_n,\\widehat{f}(x_n)]$), the test statistic can be regarded as a sum of paired differences (i.e., $L[y_n,\\widehat{g}_j(x_n)] - L[y_n,\\widehat{f}(x_n)]$). So we can use the paired-sample t-test to make inferences."
   ]
  },
  {
   "cell_type": "markdown",
   "id": "06d8ce4c-6850-4bfe-8ee7-18135e29b739",
   "metadata": {},
   "source": [
    "To implement LOCO, a competitor must be trained first. In this example, we leave-out the feature with the largest value of PFI - the `Ca` feature:"
   ]
  },
  {
   "cell_type": "code",
   "execution_count": 6,
   "id": "42a22c3d-a3e4-4b69-ab52-7e18d7500c45",
   "metadata": {},
   "outputs": [],
   "source": [
    "removal = \"Ca\"\n",
    "competitor = GridSearchCV(\n",
    "    estimator = HistGradientBoostingClassifier(\n",
    "        categorical_features = \"from_dtype\"), \n",
    "    param_grid = {\n",
    "        \"max_iter\": [100, 200, 300, 400]})\n",
    "_ = competitor.fit(\n",
    "    X_train.drop(removal, axis = 1), \n",
    "    y_train)"
   ]
  },
  {
   "cell_type": "markdown",
   "id": "57a9abc2-2b10-48fe-870c-27400581c62a",
   "metadata": {},
   "source": [
    "Now `RIT` can be used to construct an inferer to conduct LOCO. To initialize a `RIT`, we need to specify `learner`, `competitor`, `removal`, and `method`. In this classfication example, the loss function is `log_loss` by default. Because the specified `removal` is the column name, we must set the argument `X` of the `infer` method as `DataFrame`. After infering, the inference result can be summarized via the `summarize` method:"
   ]
  },
  {
   "cell_type": "code",
   "execution_count": 7,
   "id": "40d8acba-3755-4b0e-b355-be3967cee119",
   "metadata": {},
   "outputs": [
    {
     "name": "stdout",
     "output_type": "stream",
     "text": [
      "Inferer Summary (cross_fit=False, combine=False)\n",
      " + Method: LOCO (double_split=False, perturb_size=None)\n",
      " + Null Distribution: Normality (n_copies=None, n_permutations=None)\n",
      " + Loss Function: Log Loss (reverse=False)\n"
     ]
    },
    {
     "data": {
      "text/html": [
       "<div>\n",
       "<style scoped>\n",
       "    .dataframe tbody tr th:only-of-type {\n",
       "        vertical-align: middle;\n",
       "    }\n",
       "\n",
       "    .dataframe tbody tr th {\n",
       "        vertical-align: top;\n",
       "    }\n",
       "\n",
       "    .dataframe thead th {\n",
       "        text-align: right;\n",
       "    }\n",
       "</style>\n",
       "<table border=\"1\" class=\"dataframe\">\n",
       "  <thead>\n",
       "    <tr style=\"text-align: right;\">\n",
       "      <th></th>\n",
       "      <th>size</th>\n",
       "      <th>estimate</th>\n",
       "      <th>std_error</th>\n",
       "      <th>p_value</th>\n",
       "    </tr>\n",
       "    <tr>\n",
       "      <th>removal</th>\n",
       "      <th></th>\n",
       "      <th></th>\n",
       "      <th></th>\n",
       "      <th></th>\n",
       "    </tr>\n",
       "  </thead>\n",
       "  <tbody>\n",
       "    <tr>\n",
       "      <th>Ca</th>\n",
       "      <td>152</td>\n",
       "      <td>0.341922</td>\n",
       "      <td>0.09251</td>\n",
       "      <td>0.000109</td>\n",
       "    </tr>\n",
       "  </tbody>\n",
       "</table>\n",
       "</div>"
      ],
      "text/plain": [
       "         size  estimate  std_error   p_value\n",
       "removal                                     \n",
       "Ca        152  0.341922    0.09251  0.000109"
      ]
     },
     "execution_count": 7,
     "metadata": {},
     "output_type": "execute_result"
    }
   ],
   "source": [
    "from tofi import RIT\n",
    "loco = RIT(\n",
    "    learner, \n",
    "    competitor = competitor,\n",
    "    removal = removal,\n",
    "    method = \"LOCO\")\n",
    "_ = loco.infer(X_test, y_test)\n",
    "loco.summarize()"
   ]
  },
  {
   "cell_type": "markdown",
   "id": "d46fd737-1dc2-4e90-b7db-7dfdd1ee89e2",
   "metadata": {},
   "source": [
    "By default, the LOCO method uses `normality` to approximate the null distribution. Another choice here is `permutation`, which randomly shuffles the order of each paried-sample to obtain a null value. We can see that the two approaches yield nearly the same test results:"
   ]
  },
  {
   "cell_type": "code",
   "execution_count": 8,
   "id": "818ba1d5-588b-44a7-b807-2e4575007ebf",
   "metadata": {},
   "outputs": [
    {
     "name": "stdout",
     "output_type": "stream",
     "text": [
      "Inferer Summary (cross_fit=False, combine=False)\n",
      " + Method: LOCO (double_split=False, perturb_size=None)\n",
      " + Null Distribution: Permutation (n_copies=None, n_permutations=2000)\n",
      " + Loss Function: Log Loss (reverse=False)\n"
     ]
    },
    {
     "data": {
      "text/html": [
       "<div>\n",
       "<style scoped>\n",
       "    .dataframe tbody tr th:only-of-type {\n",
       "        vertical-align: middle;\n",
       "    }\n",
       "\n",
       "    .dataframe tbody tr th {\n",
       "        vertical-align: top;\n",
       "    }\n",
       "\n",
       "    .dataframe thead th {\n",
       "        text-align: right;\n",
       "    }\n",
       "</style>\n",
       "<table border=\"1\" class=\"dataframe\">\n",
       "  <thead>\n",
       "    <tr style=\"text-align: right;\">\n",
       "      <th></th>\n",
       "      <th>size</th>\n",
       "      <th>estimate</th>\n",
       "      <th>std_error</th>\n",
       "      <th>p_value</th>\n",
       "    </tr>\n",
       "    <tr>\n",
       "      <th>removal</th>\n",
       "      <th></th>\n",
       "      <th></th>\n",
       "      <th></th>\n",
       "      <th></th>\n",
       "    </tr>\n",
       "  </thead>\n",
       "  <tbody>\n",
       "    <tr>\n",
       "      <th>Ca</th>\n",
       "      <td>152</td>\n",
       "      <td>0.341922</td>\n",
       "      <td>0.099461</td>\n",
       "      <td>0.0</td>\n",
       "    </tr>\n",
       "  </tbody>\n",
       "</table>\n",
       "</div>"
      ],
      "text/plain": [
       "         size  estimate  std_error  p_value\n",
       "removal                                    \n",
       "Ca        152  0.341922   0.099461      0.0"
      ]
     },
     "execution_count": 8,
     "metadata": {},
     "output_type": "execute_result"
    }
   ],
   "source": [
    "loco = RIT(\n",
    "    learner, \n",
    "    competitor,\n",
    "    removal,\n",
    "    \"LOCO\",\n",
    "    null_dist = \"permutation\")\n",
    "_ = loco.infer(X_test, y_test)\n",
    "loco.summarize()"
   ]
  },
  {
   "cell_type": "markdown",
   "id": "bb8b0743-2199-4c11-9784-ed071200bdfc",
   "metadata": {},
   "source": [
    "Unlike conditional independence tests (CITs) which can only remove one feature, RITs can remove several features at a time. For example, the following code removes `\"Sex\"`, `\"ChestPain\"`, and `\"Thal\"` and tests the significance yielded by the three features."
   ]
  },
  {
   "cell_type": "code",
   "execution_count": 9,
   "id": "8ecb6cbb-7808-4753-a929-c2997f2ac823",
   "metadata": {},
   "outputs": [
    {
     "name": "stdout",
     "output_type": "stream",
     "text": [
      "Inferer Summary (cross_fit=False, combine=False)\n",
      " + Method: LOCO (double_split=False, perturb_size=None)\n",
      " + Null Distribution: Normality (n_copies=None, n_permutations=None)\n",
      " + Loss Function: Log Loss (reverse=False)\n"
     ]
    },
    {
     "data": {
      "text/html": [
       "<div>\n",
       "<style scoped>\n",
       "    .dataframe tbody tr th:only-of-type {\n",
       "        vertical-align: middle;\n",
       "    }\n",
       "\n",
       "    .dataframe tbody tr th {\n",
       "        vertical-align: top;\n",
       "    }\n",
       "\n",
       "    .dataframe thead th {\n",
       "        text-align: right;\n",
       "    }\n",
       "</style>\n",
       "<table border=\"1\" class=\"dataframe\">\n",
       "  <thead>\n",
       "    <tr style=\"text-align: right;\">\n",
       "      <th></th>\n",
       "      <th>size</th>\n",
       "      <th>estimate</th>\n",
       "      <th>std_error</th>\n",
       "      <th>p_value</th>\n",
       "    </tr>\n",
       "    <tr>\n",
       "      <th>removal</th>\n",
       "      <th></th>\n",
       "      <th></th>\n",
       "      <th></th>\n",
       "      <th></th>\n",
       "    </tr>\n",
       "  </thead>\n",
       "  <tbody>\n",
       "    <tr>\n",
       "      <th>Sex + ChestPain + Thal</th>\n",
       "      <td>152</td>\n",
       "      <td>0.075074</td>\n",
       "      <td>0.043099</td>\n",
       "      <td>0.040762</td>\n",
       "    </tr>\n",
       "  </tbody>\n",
       "</table>\n",
       "</div>"
      ],
      "text/plain": [
       "                        size  estimate  std_error   p_value\n",
       "removal                                                    \n",
       "Sex + ChestPain + Thal   152  0.075074   0.043099  0.040762"
      ]
     },
     "execution_count": 9,
     "metadata": {},
     "output_type": "execute_result"
    }
   ],
   "source": [
    "removal = [\"Sex\", \"ChestPain\", \"Thal\"]\n",
    "competitor = GridSearchCV(\n",
    "    estimator = HistGradientBoostingClassifier(\n",
    "        categorical_features = \"from_dtype\"), \n",
    "    param_grid = {\n",
    "        \"max_iter\": [100, 200, 300, 400]})\n",
    "_ = competitor.fit(\n",
    "    X_train.drop(removal, axis = 1), \n",
    "    y_train)\n",
    "loco = RIT(\n",
    "    learner, \n",
    "    competitor = competitor,\n",
    "    removal = removal,\n",
    "    method = \"LOCO\")\n",
    "_ = loco.infer(X_test, y_test)\n",
    "loco.summarize()"
   ]
  },
  {
   "cell_type": "markdown",
   "id": "84a73967-fbb5-44bc-83de-a773120b9060",
   "metadata": {},
   "source": [
    "## PIE"
   ]
  },
  {
   "cell_type": "markdown",
   "id": "436cdc28-5995-446a-956e-be276a0a4ab2",
   "metadata": {},
   "source": [
    "The LOCO test is a conceptually simple method for statistical inference. However, the normality approximation might not be correct under the null hypothesis (see Dai, B., Shen, X., & Pan, 2022; Williamson et al., 2023). To handle the problem, two strategies are availalbe. The first strategy is to introduce a random error to $t_j^\\text{LOCO}$ that can be done by setting the `perturb_size` argument. The second strategy is using double splitting. By default, the plug-in estimation (PIE; Williamson et al., 2023) test adopts the second approach by setting `double_split = True`. The implementation of PIE is the same to LOCO, but the double splitting further splits the test set into set A and set B - the former is used to estimate the risk of $\\widehat{g}_j$ and the latter is used to estimate the risk of $\\widehat{f}$. The resulting test statistic is:\n",
    "$$\n",
    "t_j^\\text{PIE} = D(\\widehat{g}_j; Z_\\text{test}^A) - D(\\widehat{f}; Z_\\text{test}^B).\n",
    "$$\n",
    "Because set A and set B are disjoint, an independent two-sample $t$-test can be used to compute a $p$-value."
   ]
  },
  {
   "cell_type": "markdown",
   "id": "6ad2eda7-d8c1-49c1-8cd7-574ee4e34132",
   "metadata": {},
   "source": [
    "In the following code, we use the competitor that removes `\"Sex\"`, `\"ChestPain\"`, and `\"Thal\"` again for demonstration. The result shows different values of `estimate` and `std_error`. In general, PIE yields a larger `std_error` than LOCO because it only uses partial information of test data. Hence, PIE is less powerful in detecting significant features."
   ]
  },
  {
   "cell_type": "code",
   "execution_count": 10,
   "id": "ee302534-1f3b-4edf-bf53-eaed9996627f",
   "metadata": {},
   "outputs": [
    {
     "name": "stdout",
     "output_type": "stream",
     "text": [
      "Inferer Summary (cross_fit=False, combine=False)\n",
      " + Method: PIE (double_split=True, perturb_size=None)\n",
      " + Null Distribution: Normality (n_copies=None, n_permutations=None)\n",
      " + Loss Function: Log Loss (reverse=False)\n"
     ]
    },
    {
     "data": {
      "text/html": [
       "<div>\n",
       "<style scoped>\n",
       "    .dataframe tbody tr th:only-of-type {\n",
       "        vertical-align: middle;\n",
       "    }\n",
       "\n",
       "    .dataframe tbody tr th {\n",
       "        vertical-align: top;\n",
       "    }\n",
       "\n",
       "    .dataframe thead th {\n",
       "        text-align: right;\n",
       "    }\n",
       "</style>\n",
       "<table border=\"1\" class=\"dataframe\">\n",
       "  <thead>\n",
       "    <tr style=\"text-align: right;\">\n",
       "      <th></th>\n",
       "      <th>size</th>\n",
       "      <th>estimate</th>\n",
       "      <th>std_error</th>\n",
       "      <th>p_value</th>\n",
       "    </tr>\n",
       "    <tr>\n",
       "      <th>removal</th>\n",
       "      <th></th>\n",
       "      <th></th>\n",
       "      <th></th>\n",
       "      <th></th>\n",
       "    </tr>\n",
       "  </thead>\n",
       "  <tbody>\n",
       "    <tr>\n",
       "      <th>Sex + ChestPain + Thal</th>\n",
       "      <td>152</td>\n",
       "      <td>0.137485</td>\n",
       "      <td>0.12635</td>\n",
       "      <td>0.138268</td>\n",
       "    </tr>\n",
       "  </tbody>\n",
       "</table>\n",
       "</div>"
      ],
      "text/plain": [
       "                        size  estimate  std_error   p_value\n",
       "removal                                                    \n",
       "Sex + ChestPain + Thal   152  0.137485    0.12635  0.138268"
      ]
     },
     "execution_count": 10,
     "metadata": {},
     "output_type": "execute_result"
    }
   ],
   "source": [
    "pie = RIT(\n",
    "    learner, \n",
    "    competitor,\n",
    "    removal,\n",
    "    \"PIE\")\n",
    "_ = pie.infer(X_test, y_test)\n",
    "pie.summarize()"
   ]
  },
  {
   "cell_type": "markdown",
   "id": "5bdbb13e-a04d-48fc-98a3-3493367c9d1a",
   "metadata": {},
   "source": [
    "## References\n",
    "\n",
    "Dai, B., Shen, X., & Pan, W. (2022). Significance tests of feature relevance for a black-box learner. IEEE Transactions on Neural Networks and Learning Systems, PP, 1-14. doi: 10.1109/TNNLS.2022.3185742\n",
    "\n",
    "Lei, J., G’Sell, M., Rinaldo, A., Tibshirani, R. J., & Wasserman, L. (2018). Distribution-free predictive inference for regression. Journal of the American Statistical Association, 113(523), 1094–1111. doi: 10.1080/01621459.2017.1307116\n",
    "\n",
    "Williamson, B. D., Gilbert, P. B., Simon, N. R., & Carone, M. (2023). A general framework for inference on algorithm-agnostic variable importance. Journal of the American Statistical Association, 118(543), 1645–1658. doi: 10.1080/01621459.2021.2003200"
   ]
  }
 ],
 "metadata": {
  "kernelspec": {
   "display_name": "Python 3 (ipykernel)",
   "language": "python",
   "name": "python3"
  },
  "language_info": {
   "codemirror_mode": {
    "name": "ipython",
    "version": 3
   },
   "file_extension": ".py",
   "mimetype": "text/x-python",
   "name": "python",
   "nbconvert_exporter": "python",
   "pygments_lexer": "ipython3",
   "version": "3.12.1"
  }
 },
 "nbformat": 4,
 "nbformat_minor": 5
}
